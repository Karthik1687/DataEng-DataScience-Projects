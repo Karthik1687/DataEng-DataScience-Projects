{
 "cells": [
  {
   "cell_type": "code",
   "execution_count": 6,
   "metadata": {
    "collapsed": false
   },
   "outputs": [],
   "source": [
    "val googlePath=\"hdfs:///user/swethakolalapudi/PageRank/web-Google.txt\"\n",
    "val googleWeblinks=sc.textFile(googlePath).filter(!_.contains(\"#\")).map(_.split(\"\\t\")).map(x => (x(0),x(1)))\n"
   ]
  },
  {
   "cell_type": "code",
   "execution_count": 7,
   "metadata": {
    "collapsed": false
   },
   "outputs": [
    {
     "data": {
      "text/plain": [
       "Array((163075,639.2815445099519), (597621,625.4610600036211), (537039,607.9168836929598), (885605,595.209230632999), (41909,583.9895718071381), (837478,573.3176083333332), (551829,551.3895311258591), (605856,551.3305802790813), (504140,537.3738795157586), (407610,492.568315758002))"
      ]
     },
     "execution_count": 7,
     "metadata": {},
     "output_type": "execute_result"
    }
   ],
   "source": [
    "val links = googleWeblinks.partitionBy(new HashPartitioner(100)).groupByKey.cache()\n",
    "\n",
    "var ranks = links.mapValues(v => 1.0)\n",
    "val iters = 2\n",
    "\n",
    "for (i <- 1 to iters) {\n",
    "      val contribs = links.join(ranks).values.flatMap{case (urls, rank) =>\n",
    "        val size = urls.size\n",
    "        urls.map(url => (url, rank / size))\n",
    "      }\n",
    "      ranks = contribs.reduceByKey(_ + _).mapValues(0.15 + 0.85 * _)\n",
    "    }\n",
    "\n",
    "ranks.sortBy(-_._2).take(10)\n",
    "    "
   ]
  },
  {
   "cell_type": "code",
   "execution_count": null,
   "metadata": {
    "collapsed": true
   },
   "outputs": [],
   "source": []
  }
 ],
 "metadata": {
  "kernelspec": {
   "display_name": "Apache Toree - Scala",
   "language": "scala",
   "name": "apache_toree_scala"
  },
  "language_info": {
   "name": "scala",
   "version": "2.10.4"
  }
 },
 "nbformat": 4,
 "nbformat_minor": 0
}
