{
 "cells": [
  {
   "cell_type": "code",
   "execution_count": 1,
   "metadata": {
    "collapsed": false
   },
   "outputs": [
    {
     "data": {
      "text/plain": [
       "org.apache.spark.SparkContext@5f41f8c6"
      ]
     },
     "execution_count": 1,
     "metadata": {},
     "output_type": "execute_result"
    }
   ],
   "source": [
    "sc"
   ]
  },
  {
   "cell_type": "code",
   "execution_count": 2,
   "metadata": {
    "collapsed": false
   },
   "outputs": [],
   "source": [
    "// Data location\n",
    "val airlinesPath=\"hdfs:///user/swethakolalapudi/flightDelaysData/airlines.csv\"\n",
    "val airportsPath=\"hdfs:///user/swethakolalapudi/flightDelaysData/airports.csv\"\n",
    "val flightsPath=\"hdfs:///user/swethakolalapudi/flightDelaysData/flights.csv\""
   ]
  },
  {
   "cell_type": "code",
   "execution_count": 3,
   "metadata": {
    "collapsed": true
   },
   "outputs": [],
   "source": [
    "// Load one dataset \n",
    "val airlines=sc.textFile(airlinesPath)"
   ]
  },
  {
   "cell_type": "code",
   "execution_count": 4,
   "metadata": {
    "collapsed": false
   },
   "outputs": [
    {
     "data": {
      "text/plain": [
       "hdfs:///user/swethakolalapudi/flightDelaysData/airlines.csv MapPartitionsRDD[2] at textFile at <console>:23"
      ]
     },
     "execution_count": 4,
     "metadata": {},
     "output_type": "execute_result"
    }
   ],
   "source": [
    "airlines"
   ]
  },
  {
   "cell_type": "code",
   "execution_count": 6,
   "metadata": {
    "collapsed": false
   },
   "outputs": [
    {
     "data": {
      "text/plain": [
       "Array(Code,Description, \"19031\",\"Mackey International Inc.: MAC\", \"19032\",\"Munz Northern Airlines Inc.: XY\", \"19033\",\"Cochise Airlines Inc.: COC\", \"19034\",\"Golden Gate Airlines Inc.: GSA\", \"19035\",\"Aeromech Inc.: RZZ\", \"19036\",\"Golden West Airlines Co.: GLW\", \"19037\",\"Puerto Rico Intl Airlines: PRN\", \"19038\",\"Air America Inc.: STZ\", \"19039\",\"Swift Aire Lines Inc.: SWT\", \"19040\",\"American Central Airlines: TSF\", \"19041\",\"Valdez Airlines: VEZ\", \"19042\",\"Southeast Alaska Airlines: WEB\", \"19043\",\"Altair Airlines Inc.: AAR\", \"19044\",\"Chitina Air Service: CHI\", \"19045\",\"Marco Island Airways Inc.: MRC\", \"19046\",\"Caribbean Air Services Inc.: OHZ\", \"19047\",\"Sundance Airlines: PRO\", \"19048\",\"Seair Alaska Airlines Inc.: SAI\", \"19049\",\"Southeast Airlines Inc.: SLZ\", \"19050\",\"A..."
      ]
     },
     "execution_count": 6,
     "metadata": {},
     "output_type": "execute_result"
    }
   ],
   "source": [
    "// View the entire dataset\n",
    "airlines.collect()"
   ]
  },
  {
   "cell_type": "code",
   "execution_count": 7,
   "metadata": {
    "collapsed": false
   },
   "outputs": [
    {
     "data": {
      "text/plain": [
       "Code,Description"
      ]
     },
     "execution_count": 7,
     "metadata": {},
     "output_type": "execute_result"
    }
   ],
   "source": [
    "// Get the first line\n",
    "airlines.first()"
   ]
  },
  {
   "cell_type": "code",
   "execution_count": 8,
   "metadata": {
    "collapsed": false
   },
   "outputs": [
    {
     "data": {
      "text/plain": [
       "Array(Code,Description, \"19031\",\"Mackey International Inc.: MAC\", \"19032\",\"Munz Northern Airlines Inc.: XY\", \"19033\",\"Cochise Airlines Inc.: COC\", \"19034\",\"Golden Gate Airlines Inc.: GSA\", \"19035\",\"Aeromech Inc.: RZZ\", \"19036\",\"Golden West Airlines Co.: GLW\", \"19037\",\"Puerto Rico Intl Airlines: PRN\", \"19038\",\"Air America Inc.: STZ\", \"19039\",\"Swift Aire Lines Inc.: SWT\")"
      ]
     },
     "execution_count": 8,
     "metadata": {},
     "output_type": "execute_result"
    }
   ],
   "source": [
    "// View a few lines\n",
    "airlines.take(10)"
   ]
  },
  {
   "cell_type": "code",
   "execution_count": 9,
   "metadata": {
    "collapsed": false
   },
   "outputs": [
    {
     "data": {
      "text/plain": [
       "1580"
      ]
     },
     "execution_count": 9,
     "metadata": {},
     "output_type": "execute_result"
    }
   ],
   "source": [
    "airlines.count()"
   ]
  },
  {
   "cell_type": "code",
   "execution_count": 5,
   "metadata": {
    "collapsed": false
   },
   "outputs": [
    {
     "data": {
      "text/plain": [
       "MapPartitionsRDD[3] at filter at <console>:25"
      ]
     },
     "execution_count": 5,
     "metadata": {},
     "output_type": "execute_result"
    }
   ],
   "source": [
    "airlines.filter(x => !x.contains(\"Description\"))"
   ]
  },
  {
   "cell_type": "code",
   "execution_count": 10,
   "metadata": {
    "collapsed": false
   },
   "outputs": [],
   "source": [
    "val airlinesWoHeader=airlines.filter(x => !x.contains(\"Description\"))"
   ]
  },
  {
   "cell_type": "code",
   "execution_count": 11,
   "metadata": {
    "collapsed": false
   },
   "outputs": [
    {
     "data": {
      "text/plain": [
       "Array(\"19031\",\"Mackey International Inc.: MAC\", \"19032\",\"Munz Northern Airlines Inc.: XY\", \"19033\",\"Cochise Airlines Inc.: COC\", \"19034\",\"Golden Gate Airlines Inc.: GSA\", \"19035\",\"Aeromech Inc.: RZZ\", \"19036\",\"Golden West Airlines Co.: GLW\", \"19037\",\"Puerto Rico Intl Airlines: PRN\", \"19038\",\"Air America Inc.: STZ\", \"19039\",\"Swift Aire Lines Inc.: SWT\", \"19040\",\"American Central Airlines: TSF\")"
      ]
     },
     "execution_count": 11,
     "metadata": {},
     "output_type": "execute_result"
    }
   ],
   "source": [
    "airlinesWoHeader.take(10)"
   ]
  },
  {
   "cell_type": "code",
   "execution_count": 12,
   "metadata": {
    "collapsed": true
   },
   "outputs": [],
   "source": [
    "val airlinesParsed=airlinesWoHeader.map(_.split(','))"
   ]
  },
  {
   "cell_type": "code",
   "execution_count": 13,
   "metadata": {
    "collapsed": false
   },
   "outputs": [
    {
     "data": {
      "text/plain": [
       "Array(Array(\"19031\", \"Mackey International Inc.: MAC\"), Array(\"19032\", \"Munz Northern Airlines Inc.: XY\"), Array(\"19033\", \"Cochise Airlines Inc.: COC\"), Array(\"19034\", \"Golden Gate Airlines Inc.: GSA\"), Array(\"19035\", \"Aeromech Inc.: RZZ\"), Array(\"19036\", \"Golden West Airlines Co.: GLW\"), Array(\"19037\", \"Puerto Rico Intl Airlines: PRN\"), Array(\"19038\", \"Air America Inc.: STZ\"), Array(\"19039\", \"Swift Aire Lines Inc.: SWT\"), Array(\"19040\", \"American Central Airlines: TSF\"))"
      ]
     },
     "execution_count": 13,
     "metadata": {},
     "output_type": "execute_result"
    }
   ],
   "source": [
    "airlinesParsed.take(10)"
   ]
  },
  {
   "cell_type": "code",
   "execution_count": 14,
   "metadata": {
    "collapsed": false
   },
   "outputs": [
    {
     "data": {
      "text/plain": [
       "Array(16, 40, 41, 36, 40, 28, 39, 40, 31, 36)"
      ]
     },
     "execution_count": 14,
     "metadata": {},
     "output_type": "execute_result"
    }
   ],
   "source": [
    "airlines.map(_.length).take(10)"
   ]
  },
  {
   "cell_type": "code",
   "execution_count": 15,
   "metadata": {
    "collapsed": false
   },
   "outputs": [
    {
     "data": {
      "text/plain": [
       "Array(\"19031\",\"Mackey International Inc.: MAC\", \"19032\",\"Munz Northern Airlines Inc.: XY\", \"19033\",\"Cochise Airlines Inc.: COC\", \"19034\",\"Golden Gate Airlines Inc.: GSA\", \"19035\",\"Aeromech Inc.: RZZ\", \"19036\",\"Golden West Airlines Co.: GLW\", \"19037\",\"Puerto Rico Intl Airlines: PRN\", \"19038\",\"Air America Inc.: STZ\", \"19039\",\"Swift Aire Lines Inc.: SWT\", \"19040\",\"American Central Airlines: TSF\")"
      ]
     },
     "execution_count": 15,
     "metadata": {},
     "output_type": "execute_result"
    }
   ],
   "source": [
    "def notHeader(row: String): Boolean = {\n",
    "    !row.contains(\"Description\")\n",
    "    }\n",
    "airlines.filter(notHeader).take(10)"
   ]
  },
  {
   "cell_type": "code",
   "execution_count": 20,
   "metadata": {
    "collapsed": false
   },
   "outputs": [
    {
     "data": {
      "text/plain": [
       "Array(Array(\"19031\", \"Mackey International Inc.: MAC\"), Array(\"19032\", \"Munz Northern Airlines Inc.: XY\"), Array(\"19033\", \"Cochise Airlines Inc.: COC\"), Array(\"19034\", \"Golden Gate Airlines Inc.: GSA\"), Array(\"19035\", \"Aeromech Inc.: RZZ\"), Array(\"19036\", \"Golden West Airlines Co.: GLW\"), Array(\"19037\", \"Puerto Rico Intl Airlines: PRN\"), Array(\"19038\", \"Air America Inc.: STZ\"), Array(\"19039\", \"Swift Aire Lines Inc.: SWT\"), Array(\"19040\", \"American Central Airlines: TSF\"))"
      ]
     },
     "execution_count": 20,
     "metadata": {},
     "output_type": "execute_result"
    }
   ],
   "source": [
    "airlines.filter(notHeader).map(_.split(\",\")).take(10)"
   ]
  },
  {
   "cell_type": "code",
   "execution_count": 37,
   "metadata": {
    "collapsed": false
   },
   "outputs": [
    {
     "data": {
      "text/plain": [
       "Array((19031,Mackey International Inc.: MAC), (19032,Munz Northern Airlines Inc.: XY), (19033,Cochise Airlines Inc.: COC), (19034,Golden Gate Airlines Inc.: GSA), (19035,Aeromech Inc.: RZZ), (19036,Golden West Airlines Co.: GLW), (19037,Puerto Rico Intl Airlines: PRN), (19038,Air America Inc.: STZ), (19039,Swift Aire Lines Inc.: SWT), (19040,American Central Airlines: TSF))"
      ]
     },
     "execution_count": 37,
     "metadata": {},
     "output_type": "execute_result"
    }
   ],
   "source": [
    "airlinesWoHeader.map(_.replace(\"\\\"\",\"\")).map(_.split(',')).map(x => (x(0).toInt,x(1))).take(10)"
   ]
  },
  {
   "cell_type": "code",
   "execution_count": 174,
   "metadata": {
    "collapsed": false
   },
   "outputs": [],
   "source": [
    "def parseLookup(row: String): (String,String)={\n",
    " val x = row.replace(\"\\\"\",\"\").split(',')\n",
    " (x(0),x(1))\n",
    "}"
   ]
  },
  {
   "cell_type": "code",
   "execution_count": 1,
   "metadata": {
    "collapsed": false
   },
   "outputs": [],
   "source": [
    "import org.joda.time._\n",
    "import org.joda.time.format._\n",
    "import org.joda.time.LocalTime\n",
    "import org.joda.time.LocalDate\n",
    "\n",
    "case class Flight(date: LocalDate,\n",
    "                  airline: String ,\n",
    "                  flightnum: String,\n",
    "                  origin: String ,\n",
    "                  dest: String ,\n",
    "                  dep: LocalTime,\n",
    "                  dep_delay: Double,\n",
    "                  arv: LocalTime,\n",
    "                  arv_delay: Double ,\n",
    "                  airtime: Double ,\n",
    "                  distance: Double\n",
    "                   )\n",
    "\n"
   ]
  },
  {
   "cell_type": "code",
   "execution_count": 2,
   "metadata": {
    "collapsed": false
   },
   "outputs": [],
   "source": [
    "\n",
    "\n",
    "\n",
    "\n",
    "def parse(row: String): Flight={\n",
    "\n",
    "  val fields = row.split(\",\")\n",
    "  val datePattern = DateTimeFormat.forPattern(\"YYYY-mm-dd\")\n",
    "  val timePattern = DateTimeFormat.forPattern(\"HHmm\")\n",
    "\n",
    "  val date: LocalDate = datePattern.parseDateTime(fields(0)).toLocalDate()\n",
    "  val airline: String = fields(1)\n",
    "  val flightnum: String = fields(2)\n",
    "  val origin: String = fields(3)\n",
    "  val dest: String = fields(4)\n",
    "  val dep: LocalTime = timePattern.parseDateTime(fields(5)).toLocalTime()\n",
    "  val dep_delay: Double = fields(6).toDouble\n",
    "  val arv: LocalTime = timePattern.parseDateTime(fields(7)).toLocalTime()\n",
    "  val arv_delay: Double = fields(8).toDouble\n",
    "  val airtime: Double = fields(9).toDouble\n",
    "  val distance: Double = fields(10).toDouble\n",
    "  \n",
    "  Flight(date,airline,flightnum,origin,dest,dep,\n",
    "         dep_delay,arv,arv_delay,airtime,distance)\n",
    "\n",
    "    }\n",
    "\n"
   ]
  },
  {
   "cell_type": "code",
   "execution_count": 6,
   "metadata": {
    "collapsed": true
   },
   "outputs": [],
   "source": [
    "val flights=sc.textFile(flightsPath)"
   ]
  },
  {
   "cell_type": "code",
   "execution_count": 7,
   "metadata": {
    "collapsed": false
   },
   "outputs": [
    {
     "data": {
      "text/plain": [
       "hdfs:///user/swethakolalapudi/flightDelaysData/flights.csv MapPartitionsRDD[5] at textFile at <console>:22"
      ]
     },
     "execution_count": 7,
     "metadata": {},
     "output_type": "execute_result"
    }
   ],
   "source": [
    "flights"
   ]
  },
  {
   "cell_type": "code",
   "execution_count": 1,
   "metadata": {
    "collapsed": false
   },
   "outputs": [
    {
     "data": {
      "text/plain": [
       "476881"
      ]
     },
     "execution_count": 1,
     "metadata": {},
     "output_type": "execute_result"
    }
   ],
   "source": [
    "// The total number of records \n",
    "flights.count()"
   ]
  },
  {
   "cell_type": "code",
   "execution_count": 3,
   "metadata": {
    "collapsed": false
   },
   "outputs": [
    {
     "data": {
      "text/plain": [
       "2014-04-01,19805,1,JFK,LAX,0854,-6.00,1217,2.00,355.00,2475.00"
      ]
     },
     "execution_count": 3,
     "metadata": {},
     "output_type": "execute_result"
    }
   ],
   "source": [
    "// The first row\n",
    "flights.first()"
   ]
  },
  {
   "cell_type": "code",
   "execution_count": 1,
   "metadata": {
    "collapsed": false
   },
   "outputs": [
    {
     "data": {
      "text/plain": [
       "MapPartitionsRDD[6] at map at <console>:25"
      ]
     },
     "execution_count": 1,
     "metadata": {},
     "output_type": "execute_result"
    }
   ],
   "source": [
    "flights.map(_.split(\",\"))"
   ]
  },
  {
   "cell_type": "code",
   "execution_count": 2,
   "metadata": {
    "collapsed": false
   },
   "outputs": [
    {
     "data": {
      "text/plain": [
       "MapPartitionsRDD[7] at map at <console>:25"
      ]
     },
     "execution_count": 2,
     "metadata": {},
     "output_type": "execute_result"
    }
   ],
   "source": [
    "flights.map(x => x.split(\",\"))"
   ]
  },
  {
   "cell_type": "code",
   "execution_count": 3,
   "metadata": {
    "collapsed": false
   },
   "outputs": [],
   "source": [
    "val flightsParsed=flights.map(parse)"
   ]
  },
  {
   "cell_type": "code",
   "execution_count": 4,
   "metadata": {
    "collapsed": false
   },
   "outputs": [
    {
     "data": {
      "text/plain": [
       "Flight(2014-01-01,19805,1,JFK,LAX,08:54:00.000,-6.0,12:17:00.000,2.0,355.0,2475.0)"
      ]
     },
     "execution_count": 4,
     "metadata": {},
     "output_type": "execute_result"
    }
   ],
   "source": [
    "// Let's take a look at the data in the Parsed RDD \n",
    "flightsParsed.first()"
   ]
  },
  {
   "cell_type": "code",
   "execution_count": 112,
   "metadata": {
    "collapsed": true
   },
   "outputs": [],
   "source": [
    "val totalDistance=flightsParsed.map(_.distance).reduce((x,y) => x+y)"
   ]
  },
  {
   "cell_type": "code",
   "execution_count": 115,
   "metadata": {
    "collapsed": false
   },
   "outputs": [],
   "source": [
    "val avgDistance=totalDistance/flightsParsed.count()"
   ]
  },
  {
   "cell_type": "code",
   "execution_count": 116,
   "metadata": {
    "collapsed": false
   },
   "outputs": [
    {
     "name": "stdout",
     "output_type": "stream",
     "text": [
      "794.8585013871385\n"
     ]
    }
   ],
   "source": [
    "println(avgDistance)"
   ]
  },
  {
   "cell_type": "code",
   "execution_count": 117,
   "metadata": {
    "collapsed": false
   },
   "outputs": [
    {
     "data": {
      "text/plain": [
       "0.3753871510922012"
      ]
     },
     "execution_count": 117,
     "metadata": {},
     "output_type": "execute_result"
    }
   ],
   "source": [
    "// % flights with delays\n",
    "flightsParsed.filter(_.dep_delay>0).count().toDouble/flightsParsed.count().toDouble"
   ]
  },
  {
   "cell_type": "code",
   "execution_count": 118,
   "metadata": {
    "collapsed": false
   },
   "outputs": [
    {
     "data": {
      "text/plain": [
       "MapPartitionsRDD[38] at map at <console>:272"
      ]
     },
     "execution_count": 118,
     "metadata": {},
     "output_type": "execute_result"
    }
   ],
   "source": [
    "flightsParsed.persist()"
   ]
  },
  {
   "cell_type": "code",
   "execution_count": 133,
   "metadata": {
    "collapsed": false
   },
   "outputs": [],
   "source": [
    "val sumCount=flightsParsed.map(_.dep_delay).aggregate((0.0,0))((acc, value) => (acc._1 + value, acc._2+1),\n",
    "                                                           (acc1,acc2) => (acc1._1+acc2._1,acc1._2+acc2._2))\n",
    "\n"
   ]
  },
  {
   "cell_type": "code",
   "execution_count": 126,
   "metadata": {
    "collapsed": false
   },
   "outputs": [
    {
     "data": {
      "text/plain": [
       "8.313877046894298"
      ]
     },
     "execution_count": 126,
     "metadata": {},
     "output_type": "execute_result"
    }
   ],
   "source": [
    "sumCount._1/sumCount._2"
   ]
  },
  {
   "cell_type": "code",
   "execution_count": 130,
   "metadata": {
    "collapsed": false
   },
   "outputs": [
    {
     "data": {
      "text/plain": [
       "class scala.Tuple2$mcDI$sp"
      ]
     },
     "execution_count": 130,
     "metadata": {},
     "output_type": "execute_result"
    }
   ],
   "source": [
    "sumCount.getClass"
   ]
  },
  {
   "cell_type": "code",
   "execution_count": 140,
   "metadata": {
    "collapsed": false
   },
   "outputs": [
    {
     "data": {
      "text/plain": [
       "Map(0 -> 452963, 5 -> 249, 10 -> 15, 24 -> 3, 25 -> 1, 14 -> 13, 20 -> 4, 1 -> 16016, 6 -> 113, 28 -> 1, 21 -> 3, 9 -> 26, 13 -> 15, 2 -> 4893, 17 -> 2, 12 -> 9, 7 -> 66, 3 -> 1729, 11 -> 12, 8 -> 43, 4 -> 701, 15 -> 4)"
      ]
     },
     "execution_count": 140,
     "metadata": {},
     "output_type": "execute_result"
    }
   ],
   "source": [
    "// Histogram of delays\n",
    "flightsParsed.map(x => (x.dep_delay/60).toInt).countByValue()"
   ]
  },
  {
   "cell_type": "code",
   "execution_count": 153,
   "metadata": {
    "collapsed": false
   },
   "outputs": [],
   "source": [
    "val airportDelays = flightsParsed.map(x => (x.origin,x.dep_delay))"
   ]
  },
  {
   "cell_type": "code",
   "execution_count": 154,
   "metadata": {
    "collapsed": false
   },
   "outputs": [
    {
     "data": {
      "text/plain": [
       "Array(JFK, LAX, JFK, LAX, DFW, OGG, DFW, HNL, JFK, LAX)"
      ]
     },
     "execution_count": 154,
     "metadata": {},
     "output_type": "execute_result"
    }
   ],
   "source": [
    "airportDelays.keys.take(10)"
   ]
  },
  {
   "cell_type": "code",
   "execution_count": 155,
   "metadata": {
    "collapsed": false
   },
   "outputs": [
    {
     "data": {
      "text/plain": [
       "Array(-6.0, 14.0, -6.0, 25.0, -5.0, 126.0, 125.0, 4.0, -7.0, 21.0)"
      ]
     },
     "execution_count": 155,
     "metadata": {},
     "output_type": "execute_result"
    }
   ],
   "source": [
    "airportDelays.values.take(10)"
   ]
  },
  {
   "cell_type": "code",
   "execution_count": 157,
   "metadata": {
    "collapsed": false
   },
   "outputs": [],
   "source": [
    "val airportTotalDelay=airportDelays.reduceByKey((x,y) => x+y)"
   ]
  },
  {
   "cell_type": "code",
   "execution_count": 158,
   "metadata": {
    "collapsed": true
   },
   "outputs": [],
   "source": [
    "val airportCount=airportDelays.mapValues(x => 1).reduceByKey((x,y) => x+y)"
   ]
  },
  {
   "cell_type": "code",
   "execution_count": 159,
   "metadata": {
    "collapsed": true
   },
   "outputs": [],
   "source": [
    "val airportSumCount=airportTotalDelay.join(airportCount)"
   ]
  },
  {
   "cell_type": "code",
   "execution_count": 160,
   "metadata": {
    "collapsed": true
   },
   "outputs": [],
   "source": [
    "val airportAvgDelay=airportSumCount.mapValues(x => x._1/x._2.toDouble)"
   ]
  },
  {
   "cell_type": "code",
   "execution_count": 161,
   "metadata": {
    "collapsed": false
   },
   "outputs": [
    {
     "data": {
      "text/plain": [
       "Array((PPG,56.25), (EGE,32.0), (OTH,24.533333333333335), (LAR,18.892857142857142), (RDD,18.55294117647059), (MTJ,18.363636363636363), (PUB,17.54), (EWR,16.478549005929544), (CIC,15.931034482758621), (RST,15.6993006993007))"
      ]
     },
     "execution_count": 161,
     "metadata": {},
     "output_type": "execute_result"
    }
   ],
   "source": [
    "airportAvgDelay.sortBy(-_._2).take(10)"
   ]
  },
  {
   "cell_type": "code",
   "execution_count": 163,
   "metadata": {
    "collapsed": false
   },
   "outputs": [],
   "source": [
    "val airportSumCount2=airportDelays.combineByKey(\n",
    "                                            value => (value,1),\n",
    "                                            (acc: (Double,Int), value) =>  (acc._1 + value, acc._2+1),\n",
    "                                            (acc1: (Double,Int), acc2: (Double,Int)) => (acc1._1+acc2._1,acc1._2+acc2._2))"
   ]
  },
  {
   "cell_type": "code",
   "execution_count": 164,
   "metadata": {
    "collapsed": true
   },
   "outputs": [],
   "source": [
    "val airportAvgDelay2=airportSumCount2.mapValues(x => x._1/x._2.toDouble)"
   ]
  },
  {
   "cell_type": "code",
   "execution_count": 165,
   "metadata": {
    "collapsed": false
   },
   "outputs": [
    {
     "data": {
      "text/plain": [
       "Array((PPG,56.25), (EGE,32.0), (OTH,24.533333333333335), (LAR,18.892857142857142), (RDD,18.55294117647059), (MTJ,18.363636363636363), (PUB,17.54), (EWR,16.478549005929544), (CIC,15.931034482758621), (RST,15.6993006993007))"
      ]
     },
     "execution_count": 165,
     "metadata": {},
     "output_type": "execute_result"
    }
   ],
   "source": [
    "airportAvgDelay2.sortBy(-_._2).take(10)"
   ]
  },
  {
   "cell_type": "code",
   "execution_count": 175,
   "metadata": {
    "collapsed": false
   },
   "outputs": [],
   "source": [
    "val airports=sc.textFile(airportsPath).filter(notHeader).map(parseLookup)"
   ]
  },
  {
   "cell_type": "code",
   "execution_count": 176,
   "metadata": {
    "collapsed": false
   },
   "outputs": [
    {
     "data": {
      "text/plain": [
       "WrappedArray(Pago Pago)"
      ]
     },
     "execution_count": 176,
     "metadata": {},
     "output_type": "execute_result"
    }
   ],
   "source": [
    "airports.lookup(\"PPG\")"
   ]
  },
  {
   "cell_type": "code",
   "execution_count": 178,
   "metadata": {
    "collapsed": false
   },
   "outputs": [],
   "source": [
    "val airportLookup=airports.collectAsMap"
   ]
  },
  {
   "cell_type": "code",
   "execution_count": 180,
   "metadata": {
    "collapsed": false
   },
   "outputs": [
    {
     "data": {
      "text/plain": [
       "Clintonville"
      ]
     },
     "execution_count": 180,
     "metadata": {},
     "output_type": "execute_result"
    }
   ],
   "source": [
    "airportLookup(\"CLI\")"
   ]
  },
  {
   "cell_type": "code",
   "execution_count": 181,
   "metadata": {
    "collapsed": false
   },
   "outputs": [
    {
     "data": {
      "text/plain": [
       "Array((Santa Maria,5.285714285714286), (Wichita Falls,8.717948717948717), (Manhattan/Ft. Riley,3.9705882352941178), (Bloomington/Normal,4.86), (Helena,-2.048076923076923), (Sun Valley/Hailey/Ketchum,-4.408163265306122), (Richmond,8.803352675693102), (Ponce,-0.8103448275862069), (Salt Lake City,3.5174873446847674), (New Bern/Morehead/Beaufort,5.660714285714286))"
      ]
     },
     "execution_count": 181,
     "metadata": {},
     "output_type": "execute_result"
    }
   ],
   "source": [
    "airportAvgDelay.map(x=>(airportLookup(x._1),x._2)).take(10)"
   ]
  },
  {
   "cell_type": "code",
   "execution_count": 182,
   "metadata": {
    "collapsed": true
   },
   "outputs": [],
   "source": [
    "val airportBC=sc.broadcast(airportLookup)"
   ]
  },
  {
   "cell_type": "code",
   "execution_count": 183,
   "metadata": {
    "collapsed": false
   },
   "outputs": [
    {
     "data": {
      "text/plain": [
       "Array((Pago Pago,56.25), (Eagle,32.0), (North Bend/Coos Bay,24.533333333333335), (Laramie,18.892857142857142), (Redding,18.55294117647059), (Montrose/Delta,18.363636363636363), (Pueblo,17.54), (Newark,16.478549005929544), (Chico,15.931034482758621), (Rochester,15.6993006993007))"
      ]
     },
     "execution_count": 183,
     "metadata": {},
     "output_type": "execute_result"
    }
   ],
   "source": [
    "airportAvgDelay.map(x => (airportBC.value(x._1),x._2)).sortBy(-_._2).take(10)"
   ]
  },
  {
   "cell_type": "code",
   "execution_count": null,
   "metadata": {
    "collapsed": true
   },
   "outputs": [],
   "source": []
  }
 ],
 "metadata": {
  "kernelspec": {
   "display_name": "Apache Toree - Scala",
   "language": "scala",
   "name": "apache_toree_scala"
  },
  "language_info": {
   "name": "scala",
   "version": "2.10.4"
  }
 },
 "nbformat": 4,
 "nbformat_minor": 0
}
